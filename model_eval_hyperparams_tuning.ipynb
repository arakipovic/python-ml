{
 "cells": [
  {
   "cell_type": "code",
   "execution_count": 1,
   "metadata": {
    "collapsed": false
   },
   "outputs": [
    {
     "name": "stdout",
     "output_type": "stream",
     "text": [
      "Test acc: 0.982456140351\n"
     ]
    }
   ],
   "source": [
    "import numpy as np\n",
    "import pandas as pd\n",
    "from sklearn import datasets\n",
    "from sklearn.model_selection import train_test_split, StratifiedKFold, cross_val_score\n",
    "from sklearn.preprocessing import StandardScaler\n",
    "from sklearn.decomposition import PCA\n",
    "from sklearn.linear_model import LogisticRegression\n",
    "from sklearn.pipeline import Pipeline\n",
    "\n",
    "bc_data = datasets.load_breast_cancer()\n",
    "df = pd.DataFrame(data= np.c_[bc_data['data'], bc_data['target']],\n",
    "                     columns=list(bc_data['feature_names']) + ['target'])\n",
    "\n",
    "X = df.values[:, :-1]\n",
    "y = df['target']\n",
    "X_train, X_test, y_train, y_test = train_test_split(X, y, test_size=0.2, random_state=1)\n",
    "\n",
    "\n",
    "pipeline = Pipeline([\n",
    "    ('scl', StandardScaler()),\n",
    "    ('pca', PCA()),\n",
    "    ('lr', LogisticRegression())])\n",
    "pipeline.fit(X_train, y_train)\n",
    "\n",
    "print('Test acc: {}'.format(pipeline.score(X_test, y_test)))\n"
   ]
  },
  {
   "cell_type": "code",
   "execution_count": 7,
   "metadata": {
    "collapsed": false
   },
   "outputs": [],
   "source": [
    "kfold = StratifiedKFold(n_splits=10, random_state=1)\n",
    "\n",
    "for k, (train, test) in enumerate(kfold.split(X_train, y_train)):\n",
    "    pipeline.fit(X_train[train], y_train[train])\n",
    "    print('Fold {}, class dist {}, score {}'.format(k, np.bincount(y_train[train]), \n",
    "                                                    pipeline.score(X_test[test], y_test[test])))\n",
    "    "
   ]
  },
  {
   "cell_type": "code",
   "execution_count": 2,
   "metadata": {
    "collapsed": false
   },
   "outputs": [
    {
     "name": "stdout",
     "output_type": "stream",
     "text": [
      "[ 0.93478261  0.97826087  0.95652174  0.97826087  0.97826087  1.          1.\n",
      "  0.97777778  0.97777778  0.97777778]\n"
     ]
    }
   ],
   "source": [
    "scores = cross_val_score(estimator=pipeline, X=X_train, y=y_train, cv=10, n_jobs=1)\n",
    "print(scores)"
   ]
  },
  {
   "cell_type": "code",
   "execution_count": null,
   "metadata": {
    "collapsed": true
   },
   "outputs": [],
   "source": []
  }
 ],
 "metadata": {
  "kernelspec": {
   "display_name": "Python 2",
   "language": "python",
   "name": "python2"
  },
  "language_info": {
   "codemirror_mode": {
    "name": "ipython",
    "version": 2
   },
   "file_extension": ".py",
   "mimetype": "text/x-python",
   "name": "python",
   "nbconvert_exporter": "python",
   "pygments_lexer": "ipython2",
   "version": "2.7.13"
  }
 },
 "nbformat": 4,
 "nbformat_minor": 2
}
