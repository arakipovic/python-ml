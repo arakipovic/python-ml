{
 "cells": [
  {
   "cell_type": "code",
   "execution_count": 22,
   "metadata": {
    "collapsed": false
   },
   "outputs": [
    {
     "name": "stdout",
     "output_type": "stream",
     "text": [
      "classes in iris ds: 3\n",
      "Acc of perceptron is: 0.911111111111\n"
     ]
    }
   ],
   "source": [
    "from sklearn import datasets\n",
    "from sklearn.model_selection import train_test_split\n",
    "from sklearn.preprocessing import StandardScaler\n",
    "from sklearn.linear_model import Perceptron\n",
    "from sklearn.metrics import accuracy_score\n",
    "import numpy as np\n",
    "\n",
    "\n",
    "\n",
    "iris = datasets.load_iris()\n",
    "X = iris.data[:, [2, 3]]\n",
    "y = iris.target\n",
    "\n",
    "print(\"classes in iris ds: {}\".format(len(np.unique(y))))\n",
    "\n",
    "# split model into traing and test\n",
    "X_train, X_test, y_train, y_test = train_test_split(X, y, test_size=0.3, random_state=0)\n",
    "ss = StandardScaler()\n",
    "ss.fit(X_train)\n",
    "X_train_scaled = ss.transform(X_train)\n",
    "X_test_scaled = ss.transform(X_test)\n",
    "\n",
    "ppn = Perceptron(n_iter=40, eta0=0.1, random_state=0)\n",
    "ppn.fit(X_train_scaled, y_train)\n",
    "y_predict = ppn.predict(X_test_scaled)\n",
    "\n",
    "print('Acc of perceptron is: {}'.format(accuracy_score(y_test, y_predict)))"
   ]
  },
  {
   "cell_type": "code",
   "execution_count": 29,
   "metadata": {
    "collapsed": false
   },
   "outputs": [
    {
     "name": "stdout",
     "output_type": "stream",
     "text": [
      "Logistic regression probabilities for every test sample: \n",
      "[[  2.05743774e-11   6.31620264e-02   9.36837974e-01]\n",
      " [  6.08753106e-04   9.99285569e-01   1.05678028e-04]\n",
      " [  8.16962653e-01   1.83037347e-01   6.48299403e-14]\n",
      " [  1.60866539e-11   4.14084479e-01   5.85915521e-01]\n",
      " [  8.00231776e-01   1.99768224e-01   1.07576258e-13]\n",
      " [  2.03283749e-13   1.38353563e-01   8.61646437e-01]\n",
      " [  8.64726967e-01   1.35273033e-01   9.27705289e-14]\n",
      " [  4.92680691e-07   7.61844645e-01   2.38154862e-01]\n",
      " [  6.63326495e-07   8.43292211e-01   1.56707126e-01]\n",
      " [  8.06447009e-05   9.97737477e-01   2.18187798e-03]\n",
      " [  9.03984802e-09   4.62107297e-01   5.37892694e-01]\n",
      " [  1.54213753e-06   8.75626483e-01   1.24371975e-01]\n",
      " [  5.21240195e-06   9.81860065e-01   1.81347231e-02]\n",
      " [  8.78337572e-07   8.24894420e-01   1.75104701e-01]\n",
      " [  1.13609831e-06   8.90634747e-01   1.09364117e-01]\n",
      " [  7.63277074e-01   2.36722926e-01   4.48028267e-14]\n",
      " [  1.54213753e-06   8.75626483e-01   1.24371975e-01]\n",
      " [  2.17883410e-05   9.95361393e-01   4.61681913e-03]\n",
      " [  8.50297533e-01   1.49702467e-01   1.54539513e-13]\n",
      " [  8.92312846e-01   1.07687154e-01   2.19265907e-13]\n",
      " [  1.36185935e-09   1.37889641e-01   8.62110357e-01]\n",
      " [  1.54213753e-06   8.75626483e-01   1.24371975e-01]\n",
      " [  7.30041284e-01   2.69958716e-01   8.08556048e-13]\n",
      " [  8.16962653e-01   1.83037347e-01   6.48299403e-14]\n",
      " [  1.31849235e-08   2.33504838e-01   7.66495148e-01]\n",
      " [  8.76597816e-01   1.23402184e-01   8.44713225e-15]\n",
      " [  8.03965919e-01   1.96034081e-01   4.68344939e-12]\n",
      " [  1.77840766e-05   9.92031267e-01   7.95094912e-03]\n",
      " [  1.90628534e-02   9.80932392e-01   4.75462295e-06]\n",
      " [  8.52060302e-01   1.47939698e-01   1.01852930e-12]\n",
      " [  5.05675088e-10   3.05943312e-01   6.94056688e-01]\n",
      " [  1.54213753e-06   8.75626483e-01   1.24371975e-01]\n",
      " [  8.00231776e-01   1.99768224e-01   1.07576258e-13]\n",
      " [  7.81877559e-09   2.32190155e-01   7.67809837e-01]\n",
      " [  1.29757333e-11   1.74476679e-01   8.25523321e-01]\n",
      " [  7.17765160e-05   9.95828460e-01   4.09976396e-03]\n",
      " [  8.02288088e-01   1.97711912e-01   7.09140126e-13]\n",
      " [  1.75748033e-08   3.82812098e-01   6.17187884e-01]\n",
      " [  7.84804343e-06   9.60367415e-01   3.96247367e-02]\n",
      " [  1.54998206e-04   9.99065670e-01   7.79331753e-04]\n",
      " [  4.48901735e-11   1.93094174e-01   8.06905826e-01]\n",
      " [  8.33068956e-01   1.66931044e-01   3.90241396e-14]\n",
      " [  4.74332140e-11   8.17822383e-02   9.18217762e-01]\n",
      " [  9.06082741e-01   9.39172591e-02   5.70722898e-12]\n",
      " [  8.00231776e-01   1.99768224e-01   1.07576258e-13]]\n"
     ]
    }
   ],
   "source": [
    "from sklearn.linear_model import LogisticRegression\n",
    "\n",
    "lr = LogisticRegression(C=1000.0, random_state=0)\n",
    "lr.fit(X_train_scaled, y_train)\n",
    "y_predict = lr.predict_proba(X_test_scaled)\n",
    "\n",
    "print('Logistic regression probabilities for every test sample: \\n{}'.format(y_predict))"
   ]
  },
  {
   "cell_type": "code",
   "execution_count": 33,
   "metadata": {
    "collapsed": false
   },
   "outputs": [
    {
     "name": "stdout",
     "output_type": "stream",
     "text": [
      "Acc of SVM is: 0.977777777778\n"
     ]
    }
   ],
   "source": [
    "from sklearn.svm import SVC\n",
    "\n",
    "svm = SVC(kernel='linear', C=1.0, random_state=0)\n",
    "svm.fit(X_train_scaled, y_train)\n",
    "y_predict = svm.predict(X_test_scaled)\n",
    "\n",
    "print('Acc of SVM is: {}'.format(accuracy_score(y_test, y_predict)))"
   ]
  },
  {
   "cell_type": "code",
   "execution_count": null,
   "metadata": {
    "collapsed": true
   },
   "outputs": [],
   "source": [
    "# trick to get model trained on huge datasets: use SGD\n",
    "from sklearn.linear_model import SGDClassifier\n",
    "\n",
    "ppn = SGDClassifier(loss='perceptron')\n",
    "lr = SGDClassifier(loss='log')\n",
    "svm = SGDClassifier(loss='hinge')"
   ]
  }
 ],
 "metadata": {
  "kernelspec": {
   "display_name": "Python 2",
   "language": "python",
   "name": "python2"
  },
  "language_info": {
   "codemirror_mode": {
    "name": "ipython",
    "version": 2
   },
   "file_extension": ".py",
   "mimetype": "text/x-python",
   "name": "python",
   "nbconvert_exporter": "python",
   "pygments_lexer": "ipython2",
   "version": "2.7.13"
  }
 },
 "nbformat": 4,
 "nbformat_minor": 2
}
