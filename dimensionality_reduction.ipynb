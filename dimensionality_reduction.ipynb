{
 "cells": [
  {
   "cell_type": "code",
   "execution_count": 44,
   "metadata": {
    "collapsed": false
   },
   "outputs": [],
   "source": [
    "import pandas as pd\n",
    "\n",
    "df_wine = pd.read_csv('https://archive.ics.uci.edu/ml/machine-learning-databases/wine/wine.data', header=None)"
   ]
  },
  {
   "cell_type": "code",
   "execution_count": 47,
   "metadata": {
    "collapsed": false
   },
   "outputs": [],
   "source": [
    "from sklearn.model_selection import train_test_split\n",
    "from sklearn.preprocessing import StandardScaler\n",
    "\n",
    "X, y = df_wine.iloc[:, 1:].values, df_wine.iloc[:, 0].values\n",
    "X_train, X_test, y_train, y_test = train_test_split(X, y, test_size=0.3, random_state=0)\n",
    "\n",
    "sc = StandardScaler()\n",
    "X_train_std = sc.fit_transform(X_train)\n",
    "X_test_std = sc.fit_transform(X_test)"
   ]
  },
  {
   "cell_type": "code",
   "execution_count": 48,
   "metadata": {
    "collapsed": false
   },
   "outputs": [
    {
     "name": "stdout",
     "output_type": "stream",
     "text": [
      "[ 4.8923083   2.46635032  1.42809973  1.01233462  0.84906459  0.60181514\n",
      "  0.52251546  0.08414846  0.33051429  0.29595018  0.16831254  0.21432212\n",
      "  0.2399553 ]\n"
     ]
    }
   ],
   "source": [
    "import numpy as np\n",
    "\n",
    "cov_mat = np.cov(X_train_std.T)\n",
    "eigen_vals, eigen_vecs = np.linalg.eig(cov_mat)\n",
    "print(eigen_vals)\n",
    "#print(eigen_vecs)\n",
    "\n",
    "eigen_pairs = [(np.abs(eigen_vals[i]), eigen_vecs[:, i]) for i in range(len(eigen_vals))]"
   ]
  },
  {
   "cell_type": "code",
   "execution_count": 54,
   "metadata": {
    "collapsed": false
   },
   "outputs": [],
   "source": [
    "# taking just first 2 eigen vectors but we could take as many as we want our k to be\n",
    "w = np.hstack((eigen_pairs[0][1][:, np.newaxis], \n",
    "               eigen_pairs[1][1][:, np.newaxis]))\n",
    "\n",
    "X_train_pca_manual = X_train_std.dot(w)"
   ]
  },
  {
   "cell_type": "code",
   "execution_count": 55,
   "metadata": {
    "collapsed": false
   },
   "outputs": [
    {
     "name": "stdout",
     "output_type": "stream",
     "text": [
      "[[ 1.59954057 -1.44963046]\n",
      " [ 0.06658775  2.90262559]\n",
      " [-1.51638726 -1.57383394]]\n",
      "[[ 1.59954057  1.44963046]\n",
      " [ 0.06658775 -2.90262559]\n",
      " [-1.51638726  1.57383394]]\n"
     ]
    }
   ],
   "source": [
    "from sklearn.linear_model import LogisticRegression\n",
    "from sklearn.decomposition import PCA\n",
    "\n",
    "pca = PCA(n_components=2)\n",
    "lr = LogisticRegression()\n",
    "\n",
    "X_train_pca = pca.fit_transform(X_train_std)\n",
    "X_test_pca = pca.fit_transform(X_test_std)\n",
    "lr.fit(X_train_pca, y_train)\n",
    "print(lr.coef_)\n",
    "\n",
    "lr.fit(X_train_pca_manual, y_train)\n",
    "print(lr.coef_)"
   ]
  },
  {
   "cell_type": "code",
   "execution_count": 56,
   "metadata": {
    "collapsed": false
   },
   "outputs": [
    {
     "name": "stdout",
     "output_type": "stream",
     "text": [
      "1: [ 0.9259 -0.3091  0.2592 -0.7989  0.3039  0.9608  1.0515 -0.6306  0.5354\n",
      "  0.2209  0.4855  0.798   1.2017]\n",
      "2: [-0.8727 -0.3854 -0.4437  0.2481 -0.2409 -0.1059  0.0187 -0.0164  0.1095\n",
      " -0.8796  0.4392  0.2776 -0.7016]\n",
      "3: [ 0.1637  0.8929  0.3249  0.5658 -0.01   -0.9499 -1.228   0.7436 -0.7652\n",
      "  0.979  -1.1698 -1.3007 -0.3912]\n"
     ]
    }
   ],
   "source": [
    "# LDA also needs std data\n",
    "np.set_printoptions(precision=4)\n",
    "mean_vecs = []\n",
    "\n",
    "for label in range(1, 4):\n",
    "    mean_vecs.append(np.mean(X_train_std[y_train==label], axis=0))\n",
    "    print('{}: {}'.format(label, mean_vecs[label-1]))"
   ]
  },
  {
   "cell_type": "code",
   "execution_count": 60,
   "metadata": {
    "collapsed": false
   },
   "outputs": [
    {
     "name": "stdout",
     "output_type": "stream",
     "text": [
      "Within-class scatter: [[  1.7635e+04   3.4151e+03   2.8949e+03   2.8533e+04   1.3593e+05\n",
      "    3.5946e+03   2.7261e+03  -3.9093e+02   2.6202e+03   8.6361e+03\n",
      "    2.5164e+03   4.0359e+03   8.5188e+05]\n",
      " [  3.4151e+03   8.0006e+02   5.6195e+02   5.5669e+03   2.6038e+04\n",
      "    6.9089e+02   5.1890e+02  -7.2502e+01   4.9982e+02   1.6469e+03\n",
      "    4.8755e+02   7.8412e+02   1.6572e+05]\n",
      " [  2.8949e+03   5.6195e+02   4.7935e+02   4.7219e+03   2.2362e+04\n",
      "    5.9264e+02   4.4854e+02  -6.4206e+01   4.2905e+02   1.4106e+03\n",
      "    4.1415e+02   6.6444e+02   1.3949e+05]\n",
      " [  2.8533e+04   5.5669e+03   4.7219e+03   4.6810e+04   2.2057e+05\n",
      "    5.8388e+03   4.4250e+03  -6.3332e+02   4.2345e+03   1.3904e+04\n",
      "    4.0813e+03   6.5408e+03   1.3766e+06]\n",
      " [  1.3593e+05   2.6038e+04   2.2362e+04   2.2057e+05   1.0629e+06\n",
      "    2.7680e+04   2.1211e+04  -3.0944e+03   2.0219e+04   6.6355e+04\n",
      "    1.9426e+04   3.1046e+04   6.5964e+06]\n",
      " [  3.5946e+03   6.9089e+02   5.9264e+02   5.8388e+03   2.7680e+04\n",
      "    7.4303e+02   5.5718e+02  -7.8728e+01   5.3936e+02   1.7681e+03\n",
      "    5.1334e+02   8.2474e+02   1.7387e+05]\n",
      " [  2.7261e+03   5.1890e+02   4.4854e+02   4.4250e+03   2.1211e+04\n",
      "    5.5718e+02   4.3068e+02  -6.3163e+01   4.0789e+02   1.3447e+03\n",
      "    3.8856e+02   6.1995e+02   1.3092e+05]\n",
      " [ -3.9093e+02  -7.2502e+01  -6.4206e+01  -6.3332e+02  -3.0944e+03\n",
      "   -7.8728e+01  -6.3163e+01   1.0329e+01  -5.7137e+01  -1.8879e+02\n",
      "   -5.5712e+01  -8.8155e+01  -1.8546e+04]\n",
      " [  2.6202e+03   4.9982e+02   4.2905e+02   4.2345e+03   2.0219e+04\n",
      "    5.3936e+02   4.0789e+02  -5.7137e+01   4.0245e+02   1.3274e+03\n",
      "    3.7159e+02   5.9624e+02   1.2742e+05]\n",
      " [  8.6361e+03   1.6469e+03   1.4106e+03   1.3904e+04   6.6355e+04\n",
      "    1.7681e+03   1.3447e+03  -1.8879e+02   1.3274e+03   4.7426e+03\n",
      "    1.2113e+03   1.9547e+03   4.1943e+05]\n",
      " [  2.5164e+03   4.8755e+02   4.1415e+02   4.0813e+03   1.9426e+04\n",
      "    5.1334e+02   3.8856e+02  -5.5712e+01   3.7159e+02   1.2113e+03\n",
      "    3.6127e+02   5.7797e+02   1.2166e+05]\n",
      " [  4.0359e+03   7.8412e+02   6.6444e+02   6.5408e+03   3.1046e+04\n",
      "    8.2474e+02   6.1995e+02  -8.8155e+01   5.9624e+02   1.9547e+03\n",
      "    5.7797e+02   9.3229e+02   1.9503e+05]\n",
      " [  8.5188e+05   1.6572e+05   1.3949e+05   1.3766e+06   6.5964e+06\n",
      "    1.7387e+05   1.3092e+05  -1.8546e+04   1.2742e+05   4.1943e+05\n",
      "    1.2166e+05   1.9503e+05   4.2716e+07]]\n"
     ]
    }
   ],
   "source": [
    "d = 13 # number of features\n",
    "S_W = np.zeros((d, d))\n",
    "for label, mv in zip(range(1, 4), mean_vecs):\n",
    "#    class_scatter = np.zeros((d, d))\n",
    "#    for row in X_train[y_train==label]:\n",
    " #       row, mv = row.reshape(d, 1), mv.reshape(d, 1)\n",
    "        #class_scatter += (row - mv).dot((row-mv).T) # if class labels are not uniform, scale here -> np.cov\n",
    "    class_scatter += np.cov(X_train[y_train==label].T)   \n",
    "    S_W += class_scatter\n",
    "\n",
    "print('Within-class scatter: {}'.format(S_W))"
   ]
  },
  {
   "cell_type": "code",
   "execution_count": 59,
   "metadata": {
    "collapsed": false
   },
   "outputs": [
    {
     "name": "stdout",
     "output_type": "stream",
     "text": [
      "Class label distribution: [40 49 35]\n"
     ]
    }
   ],
   "source": [
    "print('Class label distribution: {}'.format(np.bincount(y_train)[1:])) # should be uniform, otherwise we need to scale"
   ]
  },
  {
   "cell_type": "code",
   "execution_count": 62,
   "metadata": {
    "collapsed": false
   },
   "outputs": [
    {
     "name": "stdout",
     "output_type": "stream",
     "text": [
      "Between class scatter: [[  9.3793e-01   5.1159e+00   1.8614e+00   3.2416e+00  -5.7237e-02\n",
      "   -5.4424e+00  -7.0357e+00   4.2606e+00  -4.3843e+00   5.6092e+00\n",
      "   -6.7023e+00  -7.4525e+00  -2.2414e+00]\n",
      " [  5.1159e+00   2.7905e+01   1.0153e+01   1.7681e+01  -3.1220e-01\n",
      "   -2.9686e+01  -3.8376e+01   2.3240e+01  -2.3914e+01   3.0596e+01\n",
      "   -3.6558e+01  -4.0649e+01  -1.2226e+01]\n",
      " [  1.8614e+00   1.0153e+01   3.6941e+00   6.4333e+00  -1.1359e-01\n",
      "   -1.0801e+01  -1.3963e+01   8.4556e+00  -8.7010e+00   1.1132e+01\n",
      "   -1.3301e+01  -1.4790e+01  -4.4483e+00]\n",
      " [  3.2416e+00   1.7681e+01   6.4333e+00   1.1204e+01  -1.9782e-01\n",
      "   -1.8810e+01  -2.4317e+01   1.4725e+01  -1.5153e+01   1.9386e+01\n",
      "   -2.3164e+01  -2.5757e+01  -7.7466e+00]\n",
      " [ -5.7237e-02  -3.1220e-01  -1.1359e-01  -1.9782e-01   3.4929e-03\n",
      "    3.3212e-01   4.2936e-01  -2.6001e-01   2.6755e-01  -3.4230e-01\n",
      "    4.0901e-01   4.5479e-01   1.3678e-01]\n",
      " [ -5.4424e+00  -2.9686e+01  -1.0801e+01  -1.8810e+01   3.3212e-01\n",
      "    3.1580e+01   4.0825e+01  -2.4723e+01   2.5440e+01  -3.2548e+01\n",
      "    3.8891e+01   4.3243e+01   1.3006e+01]\n",
      " [ -7.0357e+00  -3.8376e+01  -1.3963e+01  -2.4317e+01   4.2936e-01\n",
      "    4.0825e+01   5.2778e+01  -3.1961e+01   3.2888e+01  -4.2077e+01\n",
      "    5.0276e+01   5.5904e+01   1.6814e+01]\n",
      " [  4.2606e+00   2.3240e+01   8.4556e+00   1.4725e+01  -2.6001e-01\n",
      "   -2.4723e+01  -3.1961e+01   1.9354e+01  -1.9916e+01   2.5480e+01\n",
      "   -3.0446e+01  -3.3854e+01  -1.0182e+01]\n",
      " [ -4.3843e+00  -2.3914e+01  -8.7010e+00  -1.5153e+01   2.6755e-01\n",
      "    2.5440e+01   3.2888e+01  -1.9916e+01   2.0494e+01  -2.6220e+01\n",
      "    3.1329e+01   3.4836e+01   1.0477e+01]\n",
      " [  5.6092e+00   3.0596e+01   1.1132e+01   1.9386e+01  -3.4230e-01\n",
      "   -3.2548e+01  -4.2077e+01   2.5480e+01  -2.6220e+01   3.3546e+01\n",
      "   -4.0083e+01  -4.4569e+01  -1.3405e+01]\n",
      " [ -6.7023e+00  -3.6558e+01  -1.3301e+01  -2.3164e+01   4.0901e-01\n",
      "    3.8891e+01   5.0276e+01  -3.0446e+01   3.1329e+01  -4.0083e+01\n",
      "    4.7894e+01   5.3254e+01   1.6017e+01]\n",
      " [ -7.4525e+00  -4.0649e+01  -1.4790e+01  -2.5757e+01   4.5479e-01\n",
      "    4.3243e+01   5.5904e+01  -3.3854e+01   3.4836e+01  -4.4569e+01\n",
      "    5.3254e+01   5.9215e+01   1.7809e+01]\n",
      " [ -2.2414e+00  -1.2226e+01  -4.4483e+00  -7.7466e+00   1.3678e-01\n",
      "    1.3006e+01   1.6814e+01  -1.0182e+01   1.0477e+01  -1.3405e+01\n",
      "    1.6017e+01   1.7809e+01   5.3563e+00]]\n"
     ]
    }
   ],
   "source": [
    "# between classes scatter \n",
    "\n",
    "mean_overall = np.mean(X_train_std, axis=0)\n",
    "d = 13\n",
    "S_B = np.zeros((d, d))\n",
    "for i, mean_vec in enumerate(mean_vecs):\n",
    "    n = X_train[y_train == i+1, :].shape[0]\n",
    "    mean_vec = mean_vec.reshape(d, 1)\n",
    "    mean_overall = mean_overall.reshape(d, 1)\n",
    "    \n",
    "S_B = n * (mean_vec - mean_overall).dot((mean_vec - mean_overall).T)\n",
    "print('Between class scatter: {}'.format(S_B))\n"
   ]
  },
  {
   "cell_type": "code",
   "execution_count": 65,
   "metadata": {
    "collapsed": false
   },
   "outputs": [
    {
     "name": "stdout",
     "output_type": "stream",
     "text": [
      "[ -1.0334e+02  -3.3367e+01  -9.5279e+00  -1.2263e-01   2.9037e-04\n",
      "   1.1935e-01   6.1188e-01   1.3689e+00   5.8031e+00   1.0138e+01\n",
      "   1.1845e+01   4.2635e+01   1.8747e+02]\n"
     ]
    }
   ],
   "source": [
    "eigen_vals, eigen_vecs = np.linalg.eigh(np.linalg.inv(S_W).dot(S_B))\n",
    "print(eigen_vals)"
   ]
  },
  {
   "cell_type": "code",
   "execution_count": 67,
   "metadata": {
    "collapsed": false
   },
   "outputs": [],
   "source": [
    "eigen_pairs = [(np.abs(eigen_vals[i]), eigen_vecs[:, i]) for i in range(len(eigen_vals))]\n",
    "               \n",
    "# taking just first 2 eigen vectors but we could take as many as we want our k to be\n",
    "w = np.hstack((eigen_pairs[0][1][:, np.newaxis], \n",
    "               eigen_pairs[1][1][:, np.newaxis]))\n",
    "\n",
    "X_train_lda_manual = X_train_std.dot(w)"
   ]
  },
  {
   "cell_type": "code",
   "execution_count": 68,
   "metadata": {
    "collapsed": true
   },
   "outputs": [],
   "source": [
    "from sklearn.lda import LDA\n",
    "lda = LDA(n_components=2)\n",
    "X_train_lda = lda.fit_transform(X_train_std, y_train)\n",
    "\n",
    "lr = LogisticRegression()\n",
    "lr.fit(X)"
   ]
  },
  {
   "cell_type": "code",
   "execution_count": null,
   "metadata": {
    "collapsed": true
   },
   "outputs": [],
   "source": []
  }
 ],
 "metadata": {
  "kernelspec": {
   "display_name": "Python 2",
   "language": "python",
   "name": "python2"
  },
  "language_info": {
   "codemirror_mode": {
    "name": "ipython",
    "version": 2
   },
   "file_extension": ".py",
   "mimetype": "text/x-python",
   "name": "python",
   "nbconvert_exporter": "python",
   "pygments_lexer": "ipython2",
   "version": "2.7.13"
  }
 },
 "nbformat": 4,
 "nbformat_minor": 2
}
